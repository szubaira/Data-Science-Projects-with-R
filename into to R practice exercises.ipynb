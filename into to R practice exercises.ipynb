{
 "cells": [
  {
   "cell_type": "markdown",
   "metadata": {},
   "source": [
    "Data Science Fundamentals: R |\n",
    "[Table of Contents](../index.ipynb)\n",
    "- - - \n",
    "<!--NAVIGATION-->\n",
    "Module 14. [Introduction](./00.ipynb) | [Basic Syntax](./01.ipynb)  | [Data Types](./02.ipynb) | [Variables](./03.ipynb) | [Operators](./04.ipynb) | [Decision Making](./05.ipynb)  | [Functions](./06.ipynb) | [Strings](./07.ipynb) | [Vectors](./08.ipynb) | [Lists](./09.ipynb) | [Matrices](./10.ipynb) | [Arrays](./11.ipynb) | [Factors](./12.ipynb) | [Data Frames](./13.ipynb) | [Data Reshaping](./14.ipynb)  | [Exercises](./15.ipynb)"
   ]
  },
  {
   "cell_type": "markdown",
   "metadata": {},
   "source": [
    "# Module 15: Practice Exercises"
   ]
  },
  {
   "cell_type": "markdown",
   "metadata": {},
   "source": [
    "### [RNA-Sequence Data](https://cran.r-project.org/web/packages/UCSCXenaTools/vignettes/USCSXenaTools.html)\n",
    "\n",
    "### [More RNA-Sequence Data](http://www.liuzlab.org/TCGA2STAT/)"
   ]
  },
  {
   "cell_type": "markdown",
   "metadata": {},
   "source": [
    "## Exercise 1."
   ]
  },
  {
   "cell_type": "markdown",
   "metadata": {},
   "source": [
    "### Creating vectors/factors and dataframes"
   ]
  },
  {
   "cell_type": "markdown",
   "metadata": {},
   "source": [
    "We are performing RNA-Seq on cancer samples being treated with three different types of treatment (A, B, and P). You have 12 samples total, with 4 replicates per treatment. Write the R code you would use to construct your metadata table as described below.\n",
    "\n",
    "- Create the vectors/factors for each column (Hint: you can type out each vector/factor, or if you want the process go faster try exploring the rep() function).\n",
    "- Put them together into a dataframe called meta.\n",
    "- Use the rownames() function to assign row names to the dataframe (Hint: you can type out the row names as a vector, or if you want the process go faster try exploring the paste() function).\n",
    "\n",
    "Your finished metadata table should have information for the variables sex, stage, treatment, and myc levels:"
   ]
  },
  {
   "cell_type": "code",
   "execution_count": 7,
   "metadata": {},
   "outputs": [],
   "source": [
    "#To install magrittr & dplyr libraries among other tools:\n",
    "# - install.packages(\"tidyverse\")\n",
    "# To Install just magrittr:\n",
    "# - install.packages(\"magrittr\")"
   ]
  },
  {
   "cell_type": "code",
   "execution_count": 4,
   "metadata": {},
   "outputs": [
    {
     "ename": "ERROR",
     "evalue": "Error in eval(expr, envir, enclos): object 'meta' not found\n",
     "output_type": "error",
     "traceback": [
      "Error in eval(expr, envir, enclos): object 'meta' not found\nTraceback:\n"
     ]
    }
   ],
   "source": [
    "meta[]"
   ]
  },
  {
   "cell_type": "code",
   "execution_count": 5,
   "metadata": {},
   "outputs": [
    {
     "name": "stderr",
     "output_type": "stream",
     "text": [
      "\n",
      "Attaching package: 'dplyr'\n",
      "\n",
      "The following objects are masked from 'package:stats':\n",
      "\n",
      "    filter, lag\n",
      "\n",
      "The following objects are masked from 'package:base':\n",
      "\n",
      "    intersect, setdiff, setequal, union\n",
      "\n"
     ]
    }
   ],
   "source": [
    "library(magrittr)\n",
    "library(dplyr)"
   ]
  },
  {
   "cell_type": "code",
   "execution_count": 3,
   "metadata": {},
   "outputs": [],
   "source": [
    "sex <- c(\"M\", \"F\", \"M\", \"F\", \"M\", \"F\", \"M\", \"F\", \"M\", \"F\", \"M\", \"F\")\n",
    "stage <- c(\"I\", \"II\", \"II\", \"I\", \"II\", \"II\", \"I\", \"II\", \"II\", \"I\", \"II\", \"II\")\n",
    "treatment <- c(\"A\", \"A\", \"A\", \"A\", \"B\", \"B\", \"B\", \"B\", \"P\", \"P\", \"P\", \"P\")\n",
    "myc <- c(2343, 457, 4593, 9035, 3450, 3524, 958, 1053, 8674, 3424, 463, 5105)"
   ]
  },
  {
   "cell_type": "code",
   "execution_count": 6,
   "metadata": {},
   "outputs": [],
   "source": [
    "meta <- data.frame(sex, stage, treatment, myc)"
   ]
  },
  {
   "cell_type": "code",
   "execution_count": 10,
   "metadata": {},
   "outputs": [],
   "source": [
    "rownames(meta) <- paste(\"sample12\", 1:12, sep=\" \")"
   ]
  },
  {
   "cell_type": "markdown",
   "metadata": {},
   "source": [
    "![images](images/exercise1.png)"
   ]
  },
  {
   "cell_type": "markdown",
   "metadata": {},
   "source": [
    "## Exercise 2. "
   ]
  },
  {
   "cell_type": "markdown",
   "metadata": {},
   "source": [
    "### Subsetting vectors/factors and dataframes"
   ]
  },
  {
   "cell_type": "markdown",
   "metadata": {},
   "source": [
    "Using the meta data frame from question #1, write out the R code you would use to perform the following operations (questions DO NOT build upon each other):\n",
    "\n",
    "- return only the treatment and sex columns using []:\n",
    "- return the treatment values for samples 5, 7, 9, and 10 using []:\n",
    "- use filter() to return all data for those samples receiving treatment P:\n",
    "- use filter()/select()to return only the stage and treatment columns for those samples with myc > 5000:\n",
    "- remove the treatment column from the dataset using []:\n",
    "- remove samples 7, 8 and 9 from the dataset using []:\n",
    "- keep only samples 1-6 using []:\n",
    "- add a column called pre_treatment to the beginning of the dataframe with the values T, F, F, F, T, T, F, T, F, F, T, T (Hint: use cbind()):\n",
    "- change the names of the columns to: “A”, “B”, “C”, “D”:\n"
   ]
  },
  {
   "cell_type": "code",
   "execution_count": 9,
   "metadata": {},
   "outputs": [
    {
     "data": {
      "text/html": [
       "<table>\n",
       "<thead><tr><th></th><th scope=col>sex</th><th scope=col>treatment</th></tr></thead>\n",
       "<tbody>\n",
       "\t<tr><th scope=row>sample121</th><td>M</td><td>A</td></tr>\n",
       "\t<tr><th scope=row>sample122</th><td>F</td><td>A</td></tr>\n",
       "\t<tr><th scope=row>sample123</th><td>M</td><td>A</td></tr>\n",
       "\t<tr><th scope=row>sample124</th><td>F</td><td>A</td></tr>\n",
       "\t<tr><th scope=row>sample125</th><td>M</td><td>B</td></tr>\n",
       "\t<tr><th scope=row>sample126</th><td>F</td><td>B</td></tr>\n",
       "\t<tr><th scope=row>sample127</th><td>M</td><td>B</td></tr>\n",
       "\t<tr><th scope=row>sample128</th><td>F</td><td>B</td></tr>\n",
       "\t<tr><th scope=row>sample129</th><td>M</td><td>P</td></tr>\n",
       "\t<tr><th scope=row>sample1210</th><td>F</td><td>P</td></tr>\n",
       "\t<tr><th scope=row>sample1211</th><td>M</td><td>P</td></tr>\n",
       "\t<tr><th scope=row>sample1212</th><td>F</td><td>P</td></tr>\n",
       "</tbody>\n",
       "</table>\n"
      ],
      "text/latex": [
       "\\begin{tabular}{r|ll}\n",
       "  & sex & treatment\\\\\n",
       "\\hline\n",
       "\tsample121 & M & A\\\\\n",
       "\tsample122 & F & A\\\\\n",
       "\tsample123 & M & A\\\\\n",
       "\tsample124 & F & A\\\\\n",
       "\tsample125 & M & B\\\\\n",
       "\tsample126 & F & B\\\\\n",
       "\tsample127 & M & B\\\\\n",
       "\tsample128 & F & B\\\\\n",
       "\tsample129 & M & P\\\\\n",
       "\tsample1210 & F & P\\\\\n",
       "\tsample1211 & M & P\\\\\n",
       "\tsample1212 & F & P\\\\\n",
       "\\end{tabular}\n"
      ],
      "text/markdown": [
       "\n",
       "| <!--/--> | sex | treatment |\n",
       "|---|---|---|\n",
       "| sample121 | M | A |\n",
       "| sample122 | F | A |\n",
       "| sample123 | M | A |\n",
       "| sample124 | F | A |\n",
       "| sample125 | M | B |\n",
       "| sample126 | F | B |\n",
       "| sample127 | M | B |\n",
       "| sample128 | F | B |\n",
       "| sample129 | M | P |\n",
       "| sample1210 | F | P |\n",
       "| sample1211 | M | P |\n",
       "| sample1212 | F | P |\n",
       "\n"
      ],
      "text/plain": [
       "           sex treatment\n",
       "sample121  M   A        \n",
       "sample122  F   A        \n",
       "sample123  M   A        \n",
       "sample124  F   A        \n",
       "sample125  M   B        \n",
       "sample126  F   B        \n",
       "sample127  M   B        \n",
       "sample128  F   B        \n",
       "sample129  M   P        \n",
       "sample1210 F   P        \n",
       "sample1211 M   P        \n",
       "sample1212 F   P        "
      ]
     },
     "metadata": {},
     "output_type": "display_data"
    }
   ],
   "source": [
    "meta[ , c(1,3)]"
   ]
  },
  {
   "cell_type": "code",
   "execution_count": 11,
   "metadata": {},
   "outputs": [
    {
     "data": {
      "text/html": [
       "<ol class=list-inline>\n",
       "\t<li>B</li>\n",
       "\t<li>B</li>\n",
       "\t<li>P</li>\n",
       "\t<li>P</li>\n",
       "</ol>\n",
       "\n",
       "<details>\n",
       "\t<summary style=display:list-item;cursor:pointer>\n",
       "\t\t<strong>Levels</strong>:\n",
       "\t</summary>\n",
       "\t<ol class=list-inline>\n",
       "\t\t<li>'A'</li>\n",
       "\t\t<li>'B'</li>\n",
       "\t\t<li>'P'</li>\n",
       "\t</ol>\n",
       "</details>"
      ],
      "text/latex": [
       "\\begin{enumerate*}\n",
       "\\item B\n",
       "\\item B\n",
       "\\item P\n",
       "\\item P\n",
       "\\end{enumerate*}\n",
       "\n",
       "\\emph{Levels}: \\begin{enumerate*}\n",
       "\\item 'A'\n",
       "\\item 'B'\n",
       "\\item 'P'\n",
       "\\end{enumerate*}\n"
      ],
      "text/markdown": [
       "1. B\n",
       "2. B\n",
       "3. P\n",
       "4. P\n",
       "\n",
       "\n",
       "\n",
       "**Levels**: 1. 'A'\n",
       "2. 'B'\n",
       "3. 'P'\n",
       "\n",
       "\n"
      ],
      "text/plain": [
       "[1] B B P P\n",
       "Levels: A B P"
      ]
     },
     "metadata": {},
     "output_type": "display_data"
    }
   ],
   "source": [
    "meta[c(5,7,9,10), 3]"
   ]
  },
  {
   "cell_type": "code",
   "execution_count": 12,
   "metadata": {},
   "outputs": [
    {
     "data": {
      "text/html": [
       "<table>\n",
       "<thead><tr><th scope=col>sex</th><th scope=col>stage</th><th scope=col>treatment</th><th scope=col>myc</th></tr></thead>\n",
       "<tbody>\n",
       "\t<tr><td>M   </td><td>II  </td><td>P   </td><td>8674</td></tr>\n",
       "\t<tr><td>F   </td><td>I   </td><td>P   </td><td>3424</td></tr>\n",
       "\t<tr><td>M   </td><td>II  </td><td>P   </td><td> 463</td></tr>\n",
       "\t<tr><td>F   </td><td>II  </td><td>P   </td><td>5105</td></tr>\n",
       "</tbody>\n",
       "</table>\n"
      ],
      "text/latex": [
       "\\begin{tabular}{r|llll}\n",
       " sex & stage & treatment & myc\\\\\n",
       "\\hline\n",
       "\t M    & II   & P    & 8674\\\\\n",
       "\t F    & I    & P    & 3424\\\\\n",
       "\t M    & II   & P    &  463\\\\\n",
       "\t F    & II   & P    & 5105\\\\\n",
       "\\end{tabular}\n"
      ],
      "text/markdown": [
       "\n",
       "| sex | stage | treatment | myc |\n",
       "|---|---|---|---|\n",
       "| M    | II   | P    | 8674 |\n",
       "| F    | I    | P    | 3424 |\n",
       "| M    | II   | P    |  463 |\n",
       "| F    | II   | P    | 5105 |\n",
       "\n"
      ],
      "text/plain": [
       "  sex stage treatment myc \n",
       "1 M   II    P         8674\n",
       "2 F   I     P         3424\n",
       "3 M   II    P          463\n",
       "4 F   II    P         5105"
      ]
     },
     "metadata": {},
     "output_type": "display_data"
    }
   ],
   "source": [
    "filter(meta, treatment == \"P\")"
   ]
  },
  {
   "cell_type": "code",
   "execution_count": 13,
   "metadata": {},
   "outputs": [
    {
     "data": {
      "text/html": [
       "<table>\n",
       "<thead><tr><th scope=col>stage</th><th scope=col>treatment</th></tr></thead>\n",
       "<tbody>\n",
       "\t<tr><td>I </td><td>A </td></tr>\n",
       "\t<tr><td>II</td><td>P </td></tr>\n",
       "\t<tr><td>II</td><td>P </td></tr>\n",
       "</tbody>\n",
       "</table>\n"
      ],
      "text/latex": [
       "\\begin{tabular}{r|ll}\n",
       " stage & treatment\\\\\n",
       "\\hline\n",
       "\t I  & A \\\\\n",
       "\t II & P \\\\\n",
       "\t II & P \\\\\n",
       "\\end{tabular}\n"
      ],
      "text/markdown": [
       "\n",
       "| stage | treatment |\n",
       "|---|---|\n",
       "| I  | A  |\n",
       "| II | P  |\n",
       "| II | P  |\n",
       "\n"
      ],
      "text/plain": [
       "  stage treatment\n",
       "1 I     A        \n",
       "2 II    P        \n",
       "3 II    P        "
      ]
     },
     "metadata": {},
     "output_type": "display_data"
    }
   ],
   "source": [
    "filter(meta, myc > 5000) %>% select(stage, treatment)"
   ]
  },
  {
   "cell_type": "code",
   "execution_count": 14,
   "metadata": {},
   "outputs": [
    {
     "data": {
      "text/html": [
       "<table>\n",
       "<thead><tr><th></th><th scope=col>sex</th><th scope=col>stage</th><th scope=col>myc</th></tr></thead>\n",
       "<tbody>\n",
       "\t<tr><th scope=row>sample12 1</th><td>M   </td><td>I   </td><td>2343</td></tr>\n",
       "\t<tr><th scope=row>sample12 2</th><td>F   </td><td>II  </td><td> 457</td></tr>\n",
       "\t<tr><th scope=row>sample12 3</th><td>M   </td><td>II  </td><td>4593</td></tr>\n",
       "\t<tr><th scope=row>sample12 4</th><td>F   </td><td>I   </td><td>9035</td></tr>\n",
       "\t<tr><th scope=row>sample12 5</th><td>M   </td><td>II  </td><td>3450</td></tr>\n",
       "\t<tr><th scope=row>sample12 6</th><td>F   </td><td>II  </td><td>3524</td></tr>\n",
       "\t<tr><th scope=row>sample12 7</th><td>M   </td><td>I   </td><td> 958</td></tr>\n",
       "\t<tr><th scope=row>sample12 8</th><td>F   </td><td>II  </td><td>1053</td></tr>\n",
       "\t<tr><th scope=row>sample12 9</th><td>M   </td><td>II  </td><td>8674</td></tr>\n",
       "\t<tr><th scope=row>sample12 10</th><td>F   </td><td>I   </td><td>3424</td></tr>\n",
       "\t<tr><th scope=row>sample12 11</th><td>M   </td><td>II  </td><td> 463</td></tr>\n",
       "\t<tr><th scope=row>sample12 12</th><td>F   </td><td>II  </td><td>5105</td></tr>\n",
       "</tbody>\n",
       "</table>\n"
      ],
      "text/latex": [
       "\\begin{tabular}{r|lll}\n",
       "  & sex & stage & myc\\\\\n",
       "\\hline\n",
       "\tsample12 1 & M    & I    & 2343\\\\\n",
       "\tsample12 2 & F    & II   &  457\\\\\n",
       "\tsample12 3 & M    & II   & 4593\\\\\n",
       "\tsample12 4 & F    & I    & 9035\\\\\n",
       "\tsample12 5 & M    & II   & 3450\\\\\n",
       "\tsample12 6 & F    & II   & 3524\\\\\n",
       "\tsample12 7 & M    & I    &  958\\\\\n",
       "\tsample12 8 & F    & II   & 1053\\\\\n",
       "\tsample12 9 & M    & II   & 8674\\\\\n",
       "\tsample12 10 & F    & I    & 3424\\\\\n",
       "\tsample12 11 & M    & II   &  463\\\\\n",
       "\tsample12 12 & F    & II   & 5105\\\\\n",
       "\\end{tabular}\n"
      ],
      "text/markdown": [
       "\n",
       "| <!--/--> | sex | stage | myc |\n",
       "|---|---|---|---|\n",
       "| sample12 1 | M    | I    | 2343 |\n",
       "| sample12 2 | F    | II   |  457 |\n",
       "| sample12 3 | M    | II   | 4593 |\n",
       "| sample12 4 | F    | I    | 9035 |\n",
       "| sample12 5 | M    | II   | 3450 |\n",
       "| sample12 6 | F    | II   | 3524 |\n",
       "| sample12 7 | M    | I    |  958 |\n",
       "| sample12 8 | F    | II   | 1053 |\n",
       "| sample12 9 | M    | II   | 8674 |\n",
       "| sample12 10 | F    | I    | 3424 |\n",
       "| sample12 11 | M    | II   |  463 |\n",
       "| sample12 12 | F    | II   | 5105 |\n",
       "\n"
      ],
      "text/plain": [
       "            sex stage myc \n",
       "sample12 1  M   I     2343\n",
       "sample12 2  F   II     457\n",
       "sample12 3  M   II    4593\n",
       "sample12 4  F   I     9035\n",
       "sample12 5  M   II    3450\n",
       "sample12 6  F   II    3524\n",
       "sample12 7  M   I      958\n",
       "sample12 8  F   II    1053\n",
       "sample12 9  M   II    8674\n",
       "sample12 10 F   I     3424\n",
       "sample12 11 M   II     463\n",
       "sample12 12 F   II    5105"
      ]
     },
     "metadata": {},
     "output_type": "display_data"
    }
   ],
   "source": [
    "meta[, -3]"
   ]
  },
  {
   "cell_type": "code",
   "execution_count": 15,
   "metadata": {},
   "outputs": [
    {
     "data": {
      "text/html": [
       "<table>\n",
       "<thead><tr><th></th><th scope=col>sex</th><th scope=col>stage</th><th scope=col>treatment</th><th scope=col>myc</th></tr></thead>\n",
       "<tbody>\n",
       "\t<tr><th scope=row>sample12 1</th><td>M   </td><td>I   </td><td>A   </td><td>2343</td></tr>\n",
       "\t<tr><th scope=row>sample12 2</th><td>F   </td><td>II  </td><td>A   </td><td> 457</td></tr>\n",
       "\t<tr><th scope=row>sample12 3</th><td>M   </td><td>II  </td><td>A   </td><td>4593</td></tr>\n",
       "\t<tr><th scope=row>sample12 4</th><td>F   </td><td>I   </td><td>A   </td><td>9035</td></tr>\n",
       "\t<tr><th scope=row>sample12 5</th><td>M   </td><td>II  </td><td>B   </td><td>3450</td></tr>\n",
       "\t<tr><th scope=row>sample12 6</th><td>F   </td><td>II  </td><td>B   </td><td>3524</td></tr>\n",
       "\t<tr><th scope=row>sample12 10</th><td>F   </td><td>I   </td><td>P   </td><td>3424</td></tr>\n",
       "\t<tr><th scope=row>sample12 11</th><td>M   </td><td>II  </td><td>P   </td><td> 463</td></tr>\n",
       "\t<tr><th scope=row>sample12 12</th><td>F   </td><td>II  </td><td>P   </td><td>5105</td></tr>\n",
       "</tbody>\n",
       "</table>\n"
      ],
      "text/latex": [
       "\\begin{tabular}{r|llll}\n",
       "  & sex & stage & treatment & myc\\\\\n",
       "\\hline\n",
       "\tsample12 1 & M    & I    & A    & 2343\\\\\n",
       "\tsample12 2 & F    & II   & A    &  457\\\\\n",
       "\tsample12 3 & M    & II   & A    & 4593\\\\\n",
       "\tsample12 4 & F    & I    & A    & 9035\\\\\n",
       "\tsample12 5 & M    & II   & B    & 3450\\\\\n",
       "\tsample12 6 & F    & II   & B    & 3524\\\\\n",
       "\tsample12 10 & F    & I    & P    & 3424\\\\\n",
       "\tsample12 11 & M    & II   & P    &  463\\\\\n",
       "\tsample12 12 & F    & II   & P    & 5105\\\\\n",
       "\\end{tabular}\n"
      ],
      "text/markdown": [
       "\n",
       "| <!--/--> | sex | stage | treatment | myc |\n",
       "|---|---|---|---|---|\n",
       "| sample12 1 | M    | I    | A    | 2343 |\n",
       "| sample12 2 | F    | II   | A    |  457 |\n",
       "| sample12 3 | M    | II   | A    | 4593 |\n",
       "| sample12 4 | F    | I    | A    | 9035 |\n",
       "| sample12 5 | M    | II   | B    | 3450 |\n",
       "| sample12 6 | F    | II   | B    | 3524 |\n",
       "| sample12 10 | F    | I    | P    | 3424 |\n",
       "| sample12 11 | M    | II   | P    |  463 |\n",
       "| sample12 12 | F    | II   | P    | 5105 |\n",
       "\n"
      ],
      "text/plain": [
       "            sex stage treatment myc \n",
       "sample12 1  M   I     A         2343\n",
       "sample12 2  F   II    A          457\n",
       "sample12 3  M   II    A         4593\n",
       "sample12 4  F   I     A         9035\n",
       "sample12 5  M   II    B         3450\n",
       "sample12 6  F   II    B         3524\n",
       "sample12 10 F   I     P         3424\n",
       "sample12 11 M   II    P          463\n",
       "sample12 12 F   II    P         5105"
      ]
     },
     "metadata": {},
     "output_type": "display_data"
    }
   ],
   "source": [
    "meta[-7:-9, ]"
   ]
  },
  {
   "cell_type": "code",
   "execution_count": 16,
   "metadata": {},
   "outputs": [
    {
     "data": {
      "text/html": [
       "<table>\n",
       "<thead><tr><th></th><th scope=col>sex</th><th scope=col>stage</th><th scope=col>treatment</th><th scope=col>myc</th></tr></thead>\n",
       "<tbody>\n",
       "\t<tr><th scope=row>sample12 1</th><td>M   </td><td>I   </td><td>A   </td><td>2343</td></tr>\n",
       "\t<tr><th scope=row>sample12 2</th><td>F   </td><td>II  </td><td>A   </td><td> 457</td></tr>\n",
       "\t<tr><th scope=row>sample12 3</th><td>M   </td><td>II  </td><td>A   </td><td>4593</td></tr>\n",
       "\t<tr><th scope=row>sample12 4</th><td>F   </td><td>I   </td><td>A   </td><td>9035</td></tr>\n",
       "\t<tr><th scope=row>sample12 5</th><td>M   </td><td>II  </td><td>B   </td><td>3450</td></tr>\n",
       "\t<tr><th scope=row>sample12 6</th><td>F   </td><td>II  </td><td>B   </td><td>3524</td></tr>\n",
       "</tbody>\n",
       "</table>\n"
      ],
      "text/latex": [
       "\\begin{tabular}{r|llll}\n",
       "  & sex & stage & treatment & myc\\\\\n",
       "\\hline\n",
       "\tsample12 1 & M    & I    & A    & 2343\\\\\n",
       "\tsample12 2 & F    & II   & A    &  457\\\\\n",
       "\tsample12 3 & M    & II   & A    & 4593\\\\\n",
       "\tsample12 4 & F    & I    & A    & 9035\\\\\n",
       "\tsample12 5 & M    & II   & B    & 3450\\\\\n",
       "\tsample12 6 & F    & II   & B    & 3524\\\\\n",
       "\\end{tabular}\n"
      ],
      "text/markdown": [
       "\n",
       "| <!--/--> | sex | stage | treatment | myc |\n",
       "|---|---|---|---|---|\n",
       "| sample12 1 | M    | I    | A    | 2343 |\n",
       "| sample12 2 | F    | II   | A    |  457 |\n",
       "| sample12 3 | M    | II   | A    | 4593 |\n",
       "| sample12 4 | F    | I    | A    | 9035 |\n",
       "| sample12 5 | M    | II   | B    | 3450 |\n",
       "| sample12 6 | F    | II   | B    | 3524 |\n",
       "\n"
      ],
      "text/plain": [
       "           sex stage treatment myc \n",
       "sample12 1 M   I     A         2343\n",
       "sample12 2 F   II    A          457\n",
       "sample12 3 M   II    A         4593\n",
       "sample12 4 F   I     A         9035\n",
       "sample12 5 M   II    B         3450\n",
       "sample12 6 F   II    B         3524"
      ]
     },
     "metadata": {},
     "output_type": "display_data"
    }
   ],
   "source": [
    "meta [1:6, ]"
   ]
  },
  {
   "cell_type": "code",
   "execution_count": 17,
   "metadata": {},
   "outputs": [
    {
     "data": {
      "text/html": [
       "<table>\n",
       "<thead><tr><th></th><th scope=col>pre_treatment</th><th scope=col>sex</th><th scope=col>stage</th><th scope=col>treatment</th><th scope=col>myc</th></tr></thead>\n",
       "<tbody>\n",
       "\t<tr><th scope=row>sample12 1</th><td> TRUE</td><td>M    </td><td>I    </td><td>A    </td><td>2343 </td></tr>\n",
       "\t<tr><th scope=row>sample12 2</th><td>FALSE</td><td>F    </td><td>II   </td><td>A    </td><td> 457 </td></tr>\n",
       "\t<tr><th scope=row>sample12 3</th><td>FALSE</td><td>M    </td><td>II   </td><td>A    </td><td>4593 </td></tr>\n",
       "\t<tr><th scope=row>sample12 4</th><td>FALSE</td><td>F    </td><td>I    </td><td>A    </td><td>9035 </td></tr>\n",
       "\t<tr><th scope=row>sample12 5</th><td> TRUE</td><td>M    </td><td>II   </td><td>B    </td><td>3450 </td></tr>\n",
       "\t<tr><th scope=row>sample12 6</th><td> TRUE</td><td>F    </td><td>II   </td><td>B    </td><td>3524 </td></tr>\n",
       "\t<tr><th scope=row>sample12 7</th><td>FALSE</td><td>M    </td><td>I    </td><td>B    </td><td> 958 </td></tr>\n",
       "\t<tr><th scope=row>sample12 8</th><td> TRUE</td><td>F    </td><td>II   </td><td>B    </td><td>1053 </td></tr>\n",
       "\t<tr><th scope=row>sample12 9</th><td>FALSE</td><td>M    </td><td>II   </td><td>P    </td><td>8674 </td></tr>\n",
       "\t<tr><th scope=row>sample12 10</th><td>FALSE</td><td>F    </td><td>I    </td><td>P    </td><td>3424 </td></tr>\n",
       "\t<tr><th scope=row>sample12 11</th><td> TRUE</td><td>M    </td><td>II   </td><td>P    </td><td> 463 </td></tr>\n",
       "\t<tr><th scope=row>sample12 12</th><td> TRUE</td><td>F    </td><td>II   </td><td>P    </td><td>5105 </td></tr>\n",
       "</tbody>\n",
       "</table>\n"
      ],
      "text/latex": [
       "\\begin{tabular}{r|lllll}\n",
       "  & pre\\_treatment & sex & stage & treatment & myc\\\\\n",
       "\\hline\n",
       "\tsample12 1 &  TRUE & M     & I     & A     & 2343 \\\\\n",
       "\tsample12 2 & FALSE & F     & II    & A     &  457 \\\\\n",
       "\tsample12 3 & FALSE & M     & II    & A     & 4593 \\\\\n",
       "\tsample12 4 & FALSE & F     & I     & A     & 9035 \\\\\n",
       "\tsample12 5 &  TRUE & M     & II    & B     & 3450 \\\\\n",
       "\tsample12 6 &  TRUE & F     & II    & B     & 3524 \\\\\n",
       "\tsample12 7 & FALSE & M     & I     & B     &  958 \\\\\n",
       "\tsample12 8 &  TRUE & F     & II    & B     & 1053 \\\\\n",
       "\tsample12 9 & FALSE & M     & II    & P     & 8674 \\\\\n",
       "\tsample12 10 & FALSE & F     & I     & P     & 3424 \\\\\n",
       "\tsample12 11 &  TRUE & M     & II    & P     &  463 \\\\\n",
       "\tsample12 12 &  TRUE & F     & II    & P     & 5105 \\\\\n",
       "\\end{tabular}\n"
      ],
      "text/markdown": [
       "\n",
       "| <!--/--> | pre_treatment | sex | stage | treatment | myc |\n",
       "|---|---|---|---|---|---|\n",
       "| sample12 1 |  TRUE | M     | I     | A     | 2343  |\n",
       "| sample12 2 | FALSE | F     | II    | A     |  457  |\n",
       "| sample12 3 | FALSE | M     | II    | A     | 4593  |\n",
       "| sample12 4 | FALSE | F     | I     | A     | 9035  |\n",
       "| sample12 5 |  TRUE | M     | II    | B     | 3450  |\n",
       "| sample12 6 |  TRUE | F     | II    | B     | 3524  |\n",
       "| sample12 7 | FALSE | M     | I     | B     |  958  |\n",
       "| sample12 8 |  TRUE | F     | II    | B     | 1053  |\n",
       "| sample12 9 | FALSE | M     | II    | P     | 8674  |\n",
       "| sample12 10 | FALSE | F     | I     | P     | 3424  |\n",
       "| sample12 11 |  TRUE | M     | II    | P     |  463  |\n",
       "| sample12 12 |  TRUE | F     | II    | P     | 5105  |\n",
       "\n"
      ],
      "text/plain": [
       "            pre_treatment sex stage treatment myc \n",
       "sample12 1   TRUE         M   I     A         2343\n",
       "sample12 2  FALSE         F   II    A          457\n",
       "sample12 3  FALSE         M   II    A         4593\n",
       "sample12 4  FALSE         F   I     A         9035\n",
       "sample12 5   TRUE         M   II    B         3450\n",
       "sample12 6   TRUE         F   II    B         3524\n",
       "sample12 7  FALSE         M   I     B          958\n",
       "sample12 8   TRUE         F   II    B         1053\n",
       "sample12 9  FALSE         M   II    P         8674\n",
       "sample12 10 FALSE         F   I     P         3424\n",
       "sample12 11  TRUE         M   II    P          463\n",
       "sample12 12  TRUE         F   II    P         5105"
      ]
     },
     "metadata": {},
     "output_type": "display_data"
    }
   ],
   "source": [
    "pre_treatment <- c(T, F, F, F, T, T, F, T, F, F, T, T)\n",
    "     \n",
    "cbind(pre_treatment, meta)"
   ]
  },
  {
   "cell_type": "code",
   "execution_count": 19,
   "metadata": {},
   "outputs": [],
   "source": [
    "colnames(meta) <- c(\"A\", \"B\", \"C\", \"D\")"
   ]
  },
  {
   "cell_type": "code",
   "execution_count": 9,
   "metadata": {},
   "outputs": [
    {
     "data": {
      "text/html": [
       "<table>\n",
       "<caption>A data.frame: 3 × 2</caption>\n",
       "<thead>\n",
       "\t<tr><th></th><th scope=col>stage</th><th scope=col>treatment</th></tr>\n",
       "\t<tr><th></th><th scope=col>&lt;chr&gt;</th><th scope=col>&lt;chr&gt;</th></tr>\n",
       "</thead>\n",
       "<tbody>\n",
       "\t<tr><th scope=row>sample4</th><td>I </td><td>A</td></tr>\n",
       "\t<tr><th scope=row>sample9</th><td>II</td><td>P</td></tr>\n",
       "\t<tr><th scope=row>sample12</th><td>II</td><td>P</td></tr>\n",
       "</tbody>\n",
       "</table>\n"
      ],
      "text/latex": [
       "A data.frame: 3 × 2\n",
       "\\begin{tabular}{r|ll}\n",
       "  & stage & treatment\\\\\n",
       "  & <chr> & <chr>\\\\\n",
       "\\hline\n",
       "\tsample4 & I  & A\\\\\n",
       "\tsample9 & II & P\\\\\n",
       "\tsample12 & II & P\\\\\n",
       "\\end{tabular}\n"
      ],
      "text/markdown": [
       "\n",
       "A data.frame: 3 × 2\n",
       "\n",
       "| <!--/--> | stage &lt;chr&gt; | treatment &lt;chr&gt; |\n",
       "|---|---|---|\n",
       "| sample4 | I  | A |\n",
       "| sample9 | II | P |\n",
       "| sample12 | II | P |\n",
       "\n"
      ],
      "text/plain": [
       "         stage treatment\n",
       "sample4  I     A        \n",
       "sample9  II    P        \n",
       "sample12 II    P        "
      ]
     },
     "metadata": {},
     "output_type": "display_data"
    }
   ],
   "source": [
    "filter(meta, myc > 5000) %>% select(stage, treatment)"
   ]
  },
  {
   "cell_type": "code",
   "execution_count": 10,
   "metadata": {},
   "outputs": [
    {
     "data": {
      "text/html": [
       "<table>\n",
       "<caption>A data.frame: 12 × 3</caption>\n",
       "<thead>\n",
       "\t<tr><th></th><th scope=col>sex</th><th scope=col>stage</th><th scope=col>myc</th></tr>\n",
       "\t<tr><th></th><th scope=col>&lt;chr&gt;</th><th scope=col>&lt;chr&gt;</th><th scope=col>&lt;dbl&gt;</th></tr>\n",
       "</thead>\n",
       "<tbody>\n",
       "\t<tr><th scope=row>sample1</th><td>M</td><td>I </td><td>2343</td></tr>\n",
       "\t<tr><th scope=row>sample2</th><td>F</td><td>II</td><td> 457</td></tr>\n",
       "\t<tr><th scope=row>sample3</th><td>M</td><td>II</td><td>4593</td></tr>\n",
       "\t<tr><th scope=row>sample4</th><td>F</td><td>I </td><td>9035</td></tr>\n",
       "\t<tr><th scope=row>sample5</th><td>M</td><td>II</td><td>3450</td></tr>\n",
       "\t<tr><th scope=row>sample6</th><td>F</td><td>II</td><td>3524</td></tr>\n",
       "\t<tr><th scope=row>sample7</th><td>M</td><td>I </td><td> 958</td></tr>\n",
       "\t<tr><th scope=row>sample8</th><td>F</td><td>II</td><td>1053</td></tr>\n",
       "\t<tr><th scope=row>sample9</th><td>M</td><td>II</td><td>8674</td></tr>\n",
       "\t<tr><th scope=row>sample10</th><td>F</td><td>I </td><td>3424</td></tr>\n",
       "\t<tr><th scope=row>sample11</th><td>M</td><td>II</td><td> 463</td></tr>\n",
       "\t<tr><th scope=row>sample12</th><td>F</td><td>II</td><td>5105</td></tr>\n",
       "</tbody>\n",
       "</table>\n"
      ],
      "text/latex": [
       "A data.frame: 12 × 3\n",
       "\\begin{tabular}{r|lll}\n",
       "  & sex & stage & myc\\\\\n",
       "  & <chr> & <chr> & <dbl>\\\\\n",
       "\\hline\n",
       "\tsample1 & M & I  & 2343\\\\\n",
       "\tsample2 & F & II &  457\\\\\n",
       "\tsample3 & M & II & 4593\\\\\n",
       "\tsample4 & F & I  & 9035\\\\\n",
       "\tsample5 & M & II & 3450\\\\\n",
       "\tsample6 & F & II & 3524\\\\\n",
       "\tsample7 & M & I  &  958\\\\\n",
       "\tsample8 & F & II & 1053\\\\\n",
       "\tsample9 & M & II & 8674\\\\\n",
       "\tsample10 & F & I  & 3424\\\\\n",
       "\tsample11 & M & II &  463\\\\\n",
       "\tsample12 & F & II & 5105\\\\\n",
       "\\end{tabular}\n"
      ],
      "text/markdown": [
       "\n",
       "A data.frame: 12 × 3\n",
       "\n",
       "| <!--/--> | sex &lt;chr&gt; | stage &lt;chr&gt; | myc &lt;dbl&gt; |\n",
       "|---|---|---|---|\n",
       "| sample1 | M | I  | 2343 |\n",
       "| sample2 | F | II |  457 |\n",
       "| sample3 | M | II | 4593 |\n",
       "| sample4 | F | I  | 9035 |\n",
       "| sample5 | M | II | 3450 |\n",
       "| sample6 | F | II | 3524 |\n",
       "| sample7 | M | I  |  958 |\n",
       "| sample8 | F | II | 1053 |\n",
       "| sample9 | M | II | 8674 |\n",
       "| sample10 | F | I  | 3424 |\n",
       "| sample11 | M | II |  463 |\n",
       "| sample12 | F | II | 5105 |\n",
       "\n"
      ],
      "text/plain": [
       "         sex stage myc \n",
       "sample1  M   I     2343\n",
       "sample2  F   II     457\n",
       "sample3  M   II    4593\n",
       "sample4  F   I     9035\n",
       "sample5  M   II    3450\n",
       "sample6  F   II    3524\n",
       "sample7  M   I      958\n",
       "sample8  F   II    1053\n",
       "sample9  M   II    8674\n",
       "sample10 F   I     3424\n",
       "sample11 M   II     463\n",
       "sample12 F   II    5105"
      ]
     },
     "metadata": {},
     "output_type": "display_data"
    }
   ],
   "source": []
  },
  {
   "cell_type": "code",
   "execution_count": 11,
   "metadata": {},
   "outputs": [
    {
     "data": {
      "text/html": [
       "<table>\n",
       "<caption>A data.frame: 9 × 4</caption>\n",
       "<thead>\n",
       "\t<tr><th></th><th scope=col>sex</th><th scope=col>stage</th><th scope=col>treatment</th><th scope=col>myc</th></tr>\n",
       "\t<tr><th></th><th scope=col>&lt;chr&gt;</th><th scope=col>&lt;chr&gt;</th><th scope=col>&lt;chr&gt;</th><th scope=col>&lt;dbl&gt;</th></tr>\n",
       "</thead>\n",
       "<tbody>\n",
       "\t<tr><th scope=row>sample1</th><td>M</td><td>I </td><td>A</td><td>2343</td></tr>\n",
       "\t<tr><th scope=row>sample2</th><td>F</td><td>II</td><td>A</td><td> 457</td></tr>\n",
       "\t<tr><th scope=row>sample3</th><td>M</td><td>II</td><td>A</td><td>4593</td></tr>\n",
       "\t<tr><th scope=row>sample4</th><td>F</td><td>I </td><td>A</td><td>9035</td></tr>\n",
       "\t<tr><th scope=row>sample5</th><td>M</td><td>II</td><td>B</td><td>3450</td></tr>\n",
       "\t<tr><th scope=row>sample6</th><td>F</td><td>II</td><td>B</td><td>3524</td></tr>\n",
       "\t<tr><th scope=row>sample10</th><td>F</td><td>I </td><td>P</td><td>3424</td></tr>\n",
       "\t<tr><th scope=row>sample11</th><td>M</td><td>II</td><td>P</td><td> 463</td></tr>\n",
       "\t<tr><th scope=row>sample12</th><td>F</td><td>II</td><td>P</td><td>5105</td></tr>\n",
       "</tbody>\n",
       "</table>\n"
      ],
      "text/latex": [
       "A data.frame: 9 × 4\n",
       "\\begin{tabular}{r|llll}\n",
       "  & sex & stage & treatment & myc\\\\\n",
       "  & <chr> & <chr> & <chr> & <dbl>\\\\\n",
       "\\hline\n",
       "\tsample1 & M & I  & A & 2343\\\\\n",
       "\tsample2 & F & II & A &  457\\\\\n",
       "\tsample3 & M & II & A & 4593\\\\\n",
       "\tsample4 & F & I  & A & 9035\\\\\n",
       "\tsample5 & M & II & B & 3450\\\\\n",
       "\tsample6 & F & II & B & 3524\\\\\n",
       "\tsample10 & F & I  & P & 3424\\\\\n",
       "\tsample11 & M & II & P &  463\\\\\n",
       "\tsample12 & F & II & P & 5105\\\\\n",
       "\\end{tabular}\n"
      ],
      "text/markdown": [
       "\n",
       "A data.frame: 9 × 4\n",
       "\n",
       "| <!--/--> | sex &lt;chr&gt; | stage &lt;chr&gt; | treatment &lt;chr&gt; | myc &lt;dbl&gt; |\n",
       "|---|---|---|---|---|\n",
       "| sample1 | M | I  | A | 2343 |\n",
       "| sample2 | F | II | A |  457 |\n",
       "| sample3 | M | II | A | 4593 |\n",
       "| sample4 | F | I  | A | 9035 |\n",
       "| sample5 | M | II | B | 3450 |\n",
       "| sample6 | F | II | B | 3524 |\n",
       "| sample10 | F | I  | P | 3424 |\n",
       "| sample11 | M | II | P |  463 |\n",
       "| sample12 | F | II | P | 5105 |\n",
       "\n"
      ],
      "text/plain": [
       "         sex stage treatment myc \n",
       "sample1  M   I     A         2343\n",
       "sample2  F   II    A          457\n",
       "sample3  M   II    A         4593\n",
       "sample4  F   I     A         9035\n",
       "sample5  M   II    B         3450\n",
       "sample6  F   II    B         3524\n",
       "sample10 F   I     P         3424\n",
       "sample11 M   II    P          463\n",
       "sample12 F   II    P         5105"
      ]
     },
     "metadata": {},
     "output_type": "display_data"
    }
   ],
   "source": []
  },
  {
   "cell_type": "code",
   "execution_count": 12,
   "metadata": {},
   "outputs": [
    {
     "data": {
      "text/html": [
       "<table>\n",
       "<caption>A data.frame: 6 × 4</caption>\n",
       "<thead>\n",
       "\t<tr><th></th><th scope=col>sex</th><th scope=col>stage</th><th scope=col>treatment</th><th scope=col>myc</th></tr>\n",
       "\t<tr><th></th><th scope=col>&lt;chr&gt;</th><th scope=col>&lt;chr&gt;</th><th scope=col>&lt;chr&gt;</th><th scope=col>&lt;dbl&gt;</th></tr>\n",
       "</thead>\n",
       "<tbody>\n",
       "\t<tr><th scope=row>sample1</th><td>M</td><td>I </td><td>A</td><td>2343</td></tr>\n",
       "\t<tr><th scope=row>sample2</th><td>F</td><td>II</td><td>A</td><td> 457</td></tr>\n",
       "\t<tr><th scope=row>sample3</th><td>M</td><td>II</td><td>A</td><td>4593</td></tr>\n",
       "\t<tr><th scope=row>sample4</th><td>F</td><td>I </td><td>A</td><td>9035</td></tr>\n",
       "\t<tr><th scope=row>sample5</th><td>M</td><td>II</td><td>B</td><td>3450</td></tr>\n",
       "\t<tr><th scope=row>sample6</th><td>F</td><td>II</td><td>B</td><td>3524</td></tr>\n",
       "</tbody>\n",
       "</table>\n"
      ],
      "text/latex": [
       "A data.frame: 6 × 4\n",
       "\\begin{tabular}{r|llll}\n",
       "  & sex & stage & treatment & myc\\\\\n",
       "  & <chr> & <chr> & <chr> & <dbl>\\\\\n",
       "\\hline\n",
       "\tsample1 & M & I  & A & 2343\\\\\n",
       "\tsample2 & F & II & A &  457\\\\\n",
       "\tsample3 & M & II & A & 4593\\\\\n",
       "\tsample4 & F & I  & A & 9035\\\\\n",
       "\tsample5 & M & II & B & 3450\\\\\n",
       "\tsample6 & F & II & B & 3524\\\\\n",
       "\\end{tabular}\n"
      ],
      "text/markdown": [
       "\n",
       "A data.frame: 6 × 4\n",
       "\n",
       "| <!--/--> | sex &lt;chr&gt; | stage &lt;chr&gt; | treatment &lt;chr&gt; | myc &lt;dbl&gt; |\n",
       "|---|---|---|---|---|\n",
       "| sample1 | M | I  | A | 2343 |\n",
       "| sample2 | F | II | A |  457 |\n",
       "| sample3 | M | II | A | 4593 |\n",
       "| sample4 | F | I  | A | 9035 |\n",
       "| sample5 | M | II | B | 3450 |\n",
       "| sample6 | F | II | B | 3524 |\n",
       "\n"
      ],
      "text/plain": [
       "        sex stage treatment myc \n",
       "sample1 M   I     A         2343\n",
       "sample2 F   II    A          457\n",
       "sample3 M   II    A         4593\n",
       "sample4 F   I     A         9035\n",
       "sample5 M   II    B         3450\n",
       "sample6 F   II    B         3524"
      ]
     },
     "metadata": {},
     "output_type": "display_data"
    }
   ],
   "source": []
  },
  {
   "cell_type": "code",
   "execution_count": 13,
   "metadata": {},
   "outputs": [
    {
     "data": {
      "text/html": [
       "<table>\n",
       "<caption>A data.frame: 12 × 5</caption>\n",
       "<thead>\n",
       "\t<tr><th></th><th scope=col>pre_treatment</th><th scope=col>sex</th><th scope=col>stage</th><th scope=col>treatment</th><th scope=col>myc</th></tr>\n",
       "\t<tr><th></th><th scope=col>&lt;lgl&gt;</th><th scope=col>&lt;chr&gt;</th><th scope=col>&lt;chr&gt;</th><th scope=col>&lt;chr&gt;</th><th scope=col>&lt;dbl&gt;</th></tr>\n",
       "</thead>\n",
       "<tbody>\n",
       "\t<tr><th scope=row>sample1</th><td> TRUE</td><td>M</td><td>I </td><td>A</td><td>2343</td></tr>\n",
       "\t<tr><th scope=row>sample2</th><td>FALSE</td><td>F</td><td>II</td><td>A</td><td> 457</td></tr>\n",
       "\t<tr><th scope=row>sample3</th><td>FALSE</td><td>M</td><td>II</td><td>A</td><td>4593</td></tr>\n",
       "\t<tr><th scope=row>sample4</th><td>FALSE</td><td>F</td><td>I </td><td>A</td><td>9035</td></tr>\n",
       "\t<tr><th scope=row>sample5</th><td> TRUE</td><td>M</td><td>II</td><td>B</td><td>3450</td></tr>\n",
       "\t<tr><th scope=row>sample6</th><td> TRUE</td><td>F</td><td>II</td><td>B</td><td>3524</td></tr>\n",
       "\t<tr><th scope=row>sample7</th><td>FALSE</td><td>M</td><td>I </td><td>B</td><td> 958</td></tr>\n",
       "\t<tr><th scope=row>sample8</th><td> TRUE</td><td>F</td><td>II</td><td>B</td><td>1053</td></tr>\n",
       "\t<tr><th scope=row>sample9</th><td>FALSE</td><td>M</td><td>II</td><td>P</td><td>8674</td></tr>\n",
       "\t<tr><th scope=row>sample10</th><td>FALSE</td><td>F</td><td>I </td><td>P</td><td>3424</td></tr>\n",
       "\t<tr><th scope=row>sample11</th><td> TRUE</td><td>M</td><td>II</td><td>P</td><td> 463</td></tr>\n",
       "\t<tr><th scope=row>sample12</th><td> TRUE</td><td>F</td><td>II</td><td>P</td><td>5105</td></tr>\n",
       "</tbody>\n",
       "</table>\n"
      ],
      "text/latex": [
       "A data.frame: 12 × 5\n",
       "\\begin{tabular}{r|lllll}\n",
       "  & pre\\_treatment & sex & stage & treatment & myc\\\\\n",
       "  & <lgl> & <chr> & <chr> & <chr> & <dbl>\\\\\n",
       "\\hline\n",
       "\tsample1 &  TRUE & M & I  & A & 2343\\\\\n",
       "\tsample2 & FALSE & F & II & A &  457\\\\\n",
       "\tsample3 & FALSE & M & II & A & 4593\\\\\n",
       "\tsample4 & FALSE & F & I  & A & 9035\\\\\n",
       "\tsample5 &  TRUE & M & II & B & 3450\\\\\n",
       "\tsample6 &  TRUE & F & II & B & 3524\\\\\n",
       "\tsample7 & FALSE & M & I  & B &  958\\\\\n",
       "\tsample8 &  TRUE & F & II & B & 1053\\\\\n",
       "\tsample9 & FALSE & M & II & P & 8674\\\\\n",
       "\tsample10 & FALSE & F & I  & P & 3424\\\\\n",
       "\tsample11 &  TRUE & M & II & P &  463\\\\\n",
       "\tsample12 &  TRUE & F & II & P & 5105\\\\\n",
       "\\end{tabular}\n"
      ],
      "text/markdown": [
       "\n",
       "A data.frame: 12 × 5\n",
       "\n",
       "| <!--/--> | pre_treatment &lt;lgl&gt; | sex &lt;chr&gt; | stage &lt;chr&gt; | treatment &lt;chr&gt; | myc &lt;dbl&gt; |\n",
       "|---|---|---|---|---|---|\n",
       "| sample1 |  TRUE | M | I  | A | 2343 |\n",
       "| sample2 | FALSE | F | II | A |  457 |\n",
       "| sample3 | FALSE | M | II | A | 4593 |\n",
       "| sample4 | FALSE | F | I  | A | 9035 |\n",
       "| sample5 |  TRUE | M | II | B | 3450 |\n",
       "| sample6 |  TRUE | F | II | B | 3524 |\n",
       "| sample7 | FALSE | M | I  | B |  958 |\n",
       "| sample8 |  TRUE | F | II | B | 1053 |\n",
       "| sample9 | FALSE | M | II | P | 8674 |\n",
       "| sample10 | FALSE | F | I  | P | 3424 |\n",
       "| sample11 |  TRUE | M | II | P |  463 |\n",
       "| sample12 |  TRUE | F | II | P | 5105 |\n",
       "\n"
      ],
      "text/plain": [
       "         pre_treatment sex stage treatment myc \n",
       "sample1   TRUE         M   I     A         2343\n",
       "sample2  FALSE         F   II    A          457\n",
       "sample3  FALSE         M   II    A         4593\n",
       "sample4  FALSE         F   I     A         9035\n",
       "sample5   TRUE         M   II    B         3450\n",
       "sample6   TRUE         F   II    B         3524\n",
       "sample7  FALSE         M   I     B          958\n",
       "sample8   TRUE         F   II    B         1053\n",
       "sample9  FALSE         M   II    P         8674\n",
       "sample10 FALSE         F   I     P         3424\n",
       "sample11  TRUE         M   II    P          463\n",
       "sample12  TRUE         F   II    P         5105"
      ]
     },
     "metadata": {},
     "output_type": "display_data"
    }
   ],
   "source": []
  },
  {
   "cell_type": "code",
   "execution_count": 10,
   "metadata": {},
   "outputs": [
    {
     "data": {
      "text/html": [
       "<table class=\"dataframe\">\n",
       "<caption>A data.frame: 12 × 4</caption>\n",
       "<thead>\n",
       "\t<tr><th></th><th scope=col>A</th><th scope=col>B</th><th scope=col>C</th><th scope=col>D</th></tr>\n",
       "\t<tr><th></th><th scope=col>&lt;chr&gt;</th><th scope=col>&lt;chr&gt;</th><th scope=col>&lt;chr&gt;</th><th scope=col>&lt;dbl&gt;</th></tr>\n",
       "</thead>\n",
       "<tbody>\n",
       "\t<tr><th scope=row>sample1</th><td>M</td><td>I </td><td>A</td><td>2343</td></tr>\n",
       "\t<tr><th scope=row>sample2</th><td>F</td><td>II</td><td>A</td><td> 457</td></tr>\n",
       "\t<tr><th scope=row>sample3</th><td>M</td><td>II</td><td>A</td><td>4593</td></tr>\n",
       "\t<tr><th scope=row>sample4</th><td>F</td><td>I </td><td>A</td><td>9035</td></tr>\n",
       "\t<tr><th scope=row>sample5</th><td>M</td><td>II</td><td>B</td><td>3450</td></tr>\n",
       "\t<tr><th scope=row>sample6</th><td>F</td><td>II</td><td>B</td><td>3524</td></tr>\n",
       "\t<tr><th scope=row>sample7</th><td>M</td><td>I </td><td>B</td><td> 958</td></tr>\n",
       "\t<tr><th scope=row>sample8</th><td>F</td><td>II</td><td>B</td><td>1053</td></tr>\n",
       "\t<tr><th scope=row>sample9</th><td>M</td><td>II</td><td>P</td><td>8674</td></tr>\n",
       "\t<tr><th scope=row>sample10</th><td>F</td><td>I </td><td>P</td><td>3424</td></tr>\n",
       "\t<tr><th scope=row>sample11</th><td>M</td><td>II</td><td>P</td><td> 463</td></tr>\n",
       "\t<tr><th scope=row>sample12</th><td>F</td><td>II</td><td>P</td><td>5105</td></tr>\n",
       "</tbody>\n",
       "</table>\n"
      ],
      "text/latex": [
       "A data.frame: 12 × 4\n",
       "\\begin{tabular}{r|llll}\n",
       "  & A & B & C & D\\\\\n",
       "  & <chr> & <chr> & <chr> & <dbl>\\\\\n",
       "\\hline\n",
       "\tsample1 & M & I  & A & 2343\\\\\n",
       "\tsample2 & F & II & A &  457\\\\\n",
       "\tsample3 & M & II & A & 4593\\\\\n",
       "\tsample4 & F & I  & A & 9035\\\\\n",
       "\tsample5 & M & II & B & 3450\\\\\n",
       "\tsample6 & F & II & B & 3524\\\\\n",
       "\tsample7 & M & I  & B &  958\\\\\n",
       "\tsample8 & F & II & B & 1053\\\\\n",
       "\tsample9 & M & II & P & 8674\\\\\n",
       "\tsample10 & F & I  & P & 3424\\\\\n",
       "\tsample11 & M & II & P &  463\\\\\n",
       "\tsample12 & F & II & P & 5105\\\\\n",
       "\\end{tabular}\n"
      ],
      "text/markdown": [
       "\n",
       "A data.frame: 12 × 4\n",
       "\n",
       "| <!--/--> | A &lt;chr&gt; | B &lt;chr&gt; | C &lt;chr&gt; | D &lt;dbl&gt; |\n",
       "|---|---|---|---|---|\n",
       "| sample1 | M | I  | A | 2343 |\n",
       "| sample2 | F | II | A |  457 |\n",
       "| sample3 | M | II | A | 4593 |\n",
       "| sample4 | F | I  | A | 9035 |\n",
       "| sample5 | M | II | B | 3450 |\n",
       "| sample6 | F | II | B | 3524 |\n",
       "| sample7 | M | I  | B |  958 |\n",
       "| sample8 | F | II | B | 1053 |\n",
       "| sample9 | M | II | P | 8674 |\n",
       "| sample10 | F | I  | P | 3424 |\n",
       "| sample11 | M | II | P |  463 |\n",
       "| sample12 | F | II | P | 5105 |\n",
       "\n"
      ],
      "text/plain": [
       "         A B  C D   \n",
       "sample1  M I  A 2343\n",
       "sample2  F II A  457\n",
       "sample3  M II A 4593\n",
       "sample4  F I  A 9035\n",
       "sample5  M II B 3450\n",
       "sample6  F II B 3524\n",
       "sample7  M I  B  958\n",
       "sample8  F II B 1053\n",
       "sample9  M II P 8674\n",
       "sample10 F I  P 3424\n",
       "sample11 M II P  463\n",
       "sample12 F II P 5105"
      ]
     },
     "metadata": {},
     "output_type": "display_data"
    }
   ],
   "source": []
  },
  {
   "cell_type": "markdown",
   "metadata": {},
   "source": [
    "### [John Hopkins University: Free R Course](https://www.coursera.org/learn/r-programming?specialization=data-science-foundations-r)"
   ]
  },
  {
   "cell_type": "code",
   "execution_count": null,
   "metadata": {},
   "outputs": [],
   "source": []
  }
 ],
 "metadata": {
  "kernelspec": {
   "display_name": "R",
   "language": "R",
   "name": "ir"
  },
  "language_info": {
   "codemirror_mode": "r",
   "file_extension": ".r",
   "mimetype": "text/x-r-source",
   "name": "R",
   "pygments_lexer": "r",
   "version": "3.6.1"
  }
 },
 "nbformat": 4,
 "nbformat_minor": 4
}
